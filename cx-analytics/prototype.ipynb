{
 "cells": [
  {
   "attachments": {},
   "cell_type": "markdown",
   "metadata": {},
   "source": [
    "### Explore Amazon Reviews with LangChain and Pinecone"
   ]
  },
  {
   "attachments": {},
   "cell_type": "markdown",
   "metadata": {},
   "source": [
    "Goal: Create a simple CX Analytics PoC using LangChain, Pinecone, and Huggingface embeddings."
   ]
  },
  {
   "attachments": {},
   "cell_type": "markdown",
   "metadata": {},
   "source": [
    "### Import libraries"
   ]
  },
  {
   "cell_type": "code",
   "execution_count": 1,
   "metadata": {},
   "outputs": [
    {
     "data": {
      "text/plain": [
       "True"
      ]
     },
     "execution_count": 1,
     "metadata": {},
     "output_type": "execute_result"
    }
   ],
   "source": [
    "import os\n",
    "import json\n",
    "import gzip\n",
    "import pandas as pd\n",
    "\n",
    "from dotenv import load_dotenv, find_dotenv\n",
    "\n",
    "load_dotenv(find_dotenv())"
   ]
  },
  {
   "attachments": {},
   "cell_type": "markdown",
   "metadata": {},
   "source": [
    "### Load data"
   ]
  },
  {
   "cell_type": "code",
   "execution_count": 3,
   "metadata": {},
   "outputs": [],
   "source": [
    "data = []\n",
    "with gzip.open('AMAZON_FASHION.json.gz') as f:\n",
    "    for l in f:\n",
    "        data.append(json.loads(l.strip()))\n",
    "\n",
    "metadata = []\n",
    "with gzip.open('meta_AMAZON_FASHION.json.gz') as f:\n",
    "    for l in f:\n",
    "        metadata.append(json.loads(l.strip()))"
   ]
  },
  {
   "attachments": {},
   "cell_type": "markdown",
   "metadata": {},
   "source": [
    "### Read data into dataframe"
   ]
  },
  {
   "cell_type": "code",
   "execution_count": 4,
   "metadata": {},
   "outputs": [],
   "source": [
    "df = pd.DataFrame.from_dict(data)\n",
    "df = df[df['reviewText'].notna()]\n",
    "\n",
    "df_meta = pd.DataFrame.from_dict(metadata)"
   ]
  },
  {
   "cell_type": "code",
   "execution_count": 5,
   "metadata": {},
   "outputs": [
    {
     "data": {
      "text/html": [
       "<div>\n",
       "<style scoped>\n",
       "    .dataframe tbody tr th:only-of-type {\n",
       "        vertical-align: middle;\n",
       "    }\n",
       "\n",
       "    .dataframe tbody tr th {\n",
       "        vertical-align: top;\n",
       "    }\n",
       "\n",
       "    .dataframe thead th {\n",
       "        text-align: right;\n",
       "    }\n",
       "</style>\n",
       "<table border=\"1\" class=\"dataframe\">\n",
       "  <thead>\n",
       "    <tr style=\"text-align: right;\">\n",
       "      <th></th>\n",
       "      <th>title</th>\n",
       "      <th>brand</th>\n",
       "      <th>feature</th>\n",
       "      <th>rank</th>\n",
       "      <th>date</th>\n",
       "      <th>asin</th>\n",
       "      <th>imageURL</th>\n",
       "      <th>imageURLHighRes</th>\n",
       "      <th>description</th>\n",
       "      <th>price</th>\n",
       "      <th>also_view</th>\n",
       "      <th>also_buy</th>\n",
       "      <th>fit</th>\n",
       "      <th>details</th>\n",
       "      <th>similar_item</th>\n",
       "      <th>tech1</th>\n",
       "    </tr>\n",
       "  </thead>\n",
       "  <tbody>\n",
       "    <tr>\n",
       "      <th>0</th>\n",
       "      <td>Slime Time Fall Fest [With CDROM and Collector...</td>\n",
       "      <td>Group Publishing (CO)</td>\n",
       "      <td>[Product Dimensions:\\n                    \\n8....</td>\n",
       "      <td>13,052,976inClothing,Shoesamp;Jewelry(</td>\n",
       "      <td>8.70 inches</td>\n",
       "      <td>0764443682</td>\n",
       "      <td>[https://images-na.ssl-images-amazon.com/image...</td>\n",
       "      <td>[https://images-na.ssl-images-amazon.com/image...</td>\n",
       "      <td>NaN</td>\n",
       "      <td>NaN</td>\n",
       "      <td>NaN</td>\n",
       "      <td>NaN</td>\n",
       "      <td>NaN</td>\n",
       "      <td>NaN</td>\n",
       "      <td>NaN</td>\n",
       "      <td>NaN</td>\n",
       "    </tr>\n",
       "    <tr>\n",
       "      <th>1</th>\n",
       "      <td>XCC Qi promise new spider snake preparing men'...</td>\n",
       "      <td>NaN</td>\n",
       "      <td>NaN</td>\n",
       "      <td>11,654,581inClothing,Shoesamp;Jewelry(</td>\n",
       "      <td>5 star</td>\n",
       "      <td>1291691480</td>\n",
       "      <td>[https://images-na.ssl-images-amazon.com/image...</td>\n",
       "      <td>[https://images-na.ssl-images-amazon.com/image...</td>\n",
       "      <td>NaN</td>\n",
       "      <td>NaN</td>\n",
       "      <td>NaN</td>\n",
       "      <td>NaN</td>\n",
       "      <td>NaN</td>\n",
       "      <td>NaN</td>\n",
       "      <td>NaN</td>\n",
       "      <td>NaN</td>\n",
       "    </tr>\n",
       "    <tr>\n",
       "      <th>2</th>\n",
       "      <td>Magical Things I Really Do Do Too!</td>\n",
       "      <td>Christopher Manos</td>\n",
       "      <td>[Package Dimensions:\\n                    \\n8....</td>\n",
       "      <td>19,308,073inClothing,ShoesJewelry(</td>\n",
       "      <td>5 star</td>\n",
       "      <td>1940280001</td>\n",
       "      <td>[https://images-na.ssl-images-amazon.com/image...</td>\n",
       "      <td>[https://images-na.ssl-images-amazon.com/image...</td>\n",
       "      <td>[For the professional or amateur magician.  Ro...</td>\n",
       "      <td>NaN</td>\n",
       "      <td>NaN</td>\n",
       "      <td>NaN</td>\n",
       "      <td>NaN</td>\n",
       "      <td>NaN</td>\n",
       "      <td>NaN</td>\n",
       "      <td>NaN</td>\n",
       "    </tr>\n",
       "    <tr>\n",
       "      <th>3</th>\n",
       "      <td>Ashes to Ashes, Oranges to Oranges</td>\n",
       "      <td>Flickerlamp Publishing</td>\n",
       "      <td>[Package Dimensions:\\n                    \\n8....</td>\n",
       "      <td>19,734,184inClothing,ShoesJewelry(</td>\n",
       "      <td>5 star</td>\n",
       "      <td>1940735033</td>\n",
       "      <td>[https://images-na.ssl-images-amazon.com/image...</td>\n",
       "      <td>[https://images-na.ssl-images-amazon.com/image...</td>\n",
       "      <td>NaN</td>\n",
       "      <td>NaN</td>\n",
       "      <td>NaN</td>\n",
       "      <td>NaN</td>\n",
       "      <td>NaN</td>\n",
       "      <td>NaN</td>\n",
       "      <td>NaN</td>\n",
       "      <td>NaN</td>\n",
       "    </tr>\n",
       "    <tr>\n",
       "      <th>4</th>\n",
       "      <td>Aether &amp; Empire #1 - 2016 First Printing Comic...</td>\n",
       "      <td>NaN</td>\n",
       "      <td>[Package Dimensions:\\n                    \\n10...</td>\n",
       "      <td>10,558,646inClothing,Shoesamp;Jewelry(</td>\n",
       "      <td>5 star</td>\n",
       "      <td>1940967805</td>\n",
       "      <td>[https://images-na.ssl-images-amazon.com/image...</td>\n",
       "      <td>[https://images-na.ssl-images-amazon.com/image...</td>\n",
       "      <td>NaN</td>\n",
       "      <td>$4.50</td>\n",
       "      <td>NaN</td>\n",
       "      <td>NaN</td>\n",
       "      <td>NaN</td>\n",
       "      <td>NaN</td>\n",
       "      <td>NaN</td>\n",
       "      <td>NaN</td>\n",
       "    </tr>\n",
       "  </tbody>\n",
       "</table>\n",
       "</div>"
      ],
      "text/plain": [
       "                                               title                   brand   \n",
       "0  Slime Time Fall Fest [With CDROM and Collector...   Group Publishing (CO)  \\\n",
       "1  XCC Qi promise new spider snake preparing men'...                     NaN   \n",
       "2                 Magical Things I Really Do Do Too!       Christopher Manos   \n",
       "3                 Ashes to Ashes, Oranges to Oranges  Flickerlamp Publishing   \n",
       "4  Aether & Empire #1 - 2016 First Printing Comic...                     NaN   \n",
       "\n",
       "                                             feature   \n",
       "0  [Product Dimensions:\\n                    \\n8....  \\\n",
       "1                                                NaN   \n",
       "2  [Package Dimensions:\\n                    \\n8....   \n",
       "3  [Package Dimensions:\\n                    \\n8....   \n",
       "4  [Package Dimensions:\\n                    \\n10...   \n",
       "\n",
       "                                     rank         date        asin   \n",
       "0  13,052,976inClothing,Shoesamp;Jewelry(  8.70 inches  0764443682  \\\n",
       "1  11,654,581inClothing,Shoesamp;Jewelry(       5 star  1291691480   \n",
       "2      19,308,073inClothing,ShoesJewelry(       5 star  1940280001   \n",
       "3      19,734,184inClothing,ShoesJewelry(       5 star  1940735033   \n",
       "4  10,558,646inClothing,Shoesamp;Jewelry(       5 star  1940967805   \n",
       "\n",
       "                                            imageURL   \n",
       "0  [https://images-na.ssl-images-amazon.com/image...  \\\n",
       "1  [https://images-na.ssl-images-amazon.com/image...   \n",
       "2  [https://images-na.ssl-images-amazon.com/image...   \n",
       "3  [https://images-na.ssl-images-amazon.com/image...   \n",
       "4  [https://images-na.ssl-images-amazon.com/image...   \n",
       "\n",
       "                                     imageURLHighRes   \n",
       "0  [https://images-na.ssl-images-amazon.com/image...  \\\n",
       "1  [https://images-na.ssl-images-amazon.com/image...   \n",
       "2  [https://images-na.ssl-images-amazon.com/image...   \n",
       "3  [https://images-na.ssl-images-amazon.com/image...   \n",
       "4  [https://images-na.ssl-images-amazon.com/image...   \n",
       "\n",
       "                                         description  price also_view   \n",
       "0                                                NaN    NaN       NaN  \\\n",
       "1                                                NaN    NaN       NaN   \n",
       "2  [For the professional or amateur magician.  Ro...    NaN       NaN   \n",
       "3                                                NaN    NaN       NaN   \n",
       "4                                                NaN  $4.50       NaN   \n",
       "\n",
       "  also_buy  fit details similar_item tech1  \n",
       "0      NaN  NaN     NaN          NaN   NaN  \n",
       "1      NaN  NaN     NaN          NaN   NaN  \n",
       "2      NaN  NaN     NaN          NaN   NaN  \n",
       "3      NaN  NaN     NaN          NaN   NaN  \n",
       "4      NaN  NaN     NaN          NaN   NaN  "
      ]
     },
     "execution_count": 5,
     "metadata": {},
     "output_type": "execute_result"
    }
   ],
   "source": [
    "df_meta.head()"
   ]
  },
  {
   "attachments": {},
   "cell_type": "markdown",
   "metadata": {},
   "source": [
    "### Truncate reviews that are too long"
   ]
  },
  {
   "cell_type": "code",
   "execution_count": 6,
   "metadata": {},
   "outputs": [],
   "source": [
    "max_text_length=400\n",
    "def truncate_review(text):\n",
    "    return text[:max_text_length]\n",
    "\n",
    "df['truncated'] = df.apply(lambda row: truncate_review(row['reviewText']), axis=1)"
   ]
  },
  {
   "cell_type": "code",
   "execution_count": 7,
   "metadata": {},
   "outputs": [
    {
     "data": {
      "text/html": [
       "<div>\n",
       "<style scoped>\n",
       "    .dataframe tbody tr th:only-of-type {\n",
       "        vertical-align: middle;\n",
       "    }\n",
       "\n",
       "    .dataframe tbody tr th {\n",
       "        vertical-align: top;\n",
       "    }\n",
       "\n",
       "    .dataframe thead th {\n",
       "        text-align: right;\n",
       "    }\n",
       "</style>\n",
       "<table border=\"1\" class=\"dataframe\">\n",
       "  <thead>\n",
       "    <tr style=\"text-align: right;\">\n",
       "      <th></th>\n",
       "      <th>overall</th>\n",
       "      <th>verified</th>\n",
       "      <th>reviewTime</th>\n",
       "      <th>reviewerID</th>\n",
       "      <th>reviewerName</th>\n",
       "      <th>reviewText</th>\n",
       "      <th>summary</th>\n",
       "      <th>unixReviewTime</th>\n",
       "      <th>vote</th>\n",
       "      <th>style</th>\n",
       "      <th>image</th>\n",
       "      <th>truncated</th>\n",
       "    </tr>\n",
       "    <tr>\n",
       "      <th>asin</th>\n",
       "      <th></th>\n",
       "      <th></th>\n",
       "      <th></th>\n",
       "      <th></th>\n",
       "      <th></th>\n",
       "      <th></th>\n",
       "      <th></th>\n",
       "      <th></th>\n",
       "      <th></th>\n",
       "      <th></th>\n",
       "      <th></th>\n",
       "      <th></th>\n",
       "    </tr>\n",
       "  </thead>\n",
       "  <tbody>\n",
       "    <tr>\n",
       "      <th>B000V0IBDM</th>\n",
       "      <td>4380</td>\n",
       "      <td>4380</td>\n",
       "      <td>4380</td>\n",
       "      <td>4380</td>\n",
       "      <td>4379</td>\n",
       "      <td>4380</td>\n",
       "      <td>4378</td>\n",
       "      <td>4380</td>\n",
       "      <td>0</td>\n",
       "      <td>0</td>\n",
       "      <td>38</td>\n",
       "      <td>4380</td>\n",
       "    </tr>\n",
       "    <tr>\n",
       "      <th>B000KPIHQ4</th>\n",
       "      <td>4371</td>\n",
       "      <td>4371</td>\n",
       "      <td>4371</td>\n",
       "      <td>4371</td>\n",
       "      <td>4370</td>\n",
       "      <td>4371</td>\n",
       "      <td>4369</td>\n",
       "      <td>4371</td>\n",
       "      <td>193</td>\n",
       "      <td>3346</td>\n",
       "      <td>38</td>\n",
       "      <td>4371</td>\n",
       "    </tr>\n",
       "    <tr>\n",
       "      <th>B00I0VHS10</th>\n",
       "      <td>3884</td>\n",
       "      <td>3884</td>\n",
       "      <td>3884</td>\n",
       "      <td>3884</td>\n",
       "      <td>3884</td>\n",
       "      <td>3884</td>\n",
       "      <td>3880</td>\n",
       "      <td>3884</td>\n",
       "      <td>128</td>\n",
       "      <td>3872</td>\n",
       "      <td>107</td>\n",
       "      <td>3884</td>\n",
       "    </tr>\n",
       "    <tr>\n",
       "      <th>B00RLSCLJM</th>\n",
       "      <td>3633</td>\n",
       "      <td>3633</td>\n",
       "      <td>3633</td>\n",
       "      <td>3633</td>\n",
       "      <td>3633</td>\n",
       "      <td>3633</td>\n",
       "      <td>3632</td>\n",
       "      <td>3633</td>\n",
       "      <td>225</td>\n",
       "      <td>3538</td>\n",
       "      <td>210</td>\n",
       "      <td>3633</td>\n",
       "    </tr>\n",
       "    <tr>\n",
       "      <th>B000PHANNM</th>\n",
       "      <td>2566</td>\n",
       "      <td>2566</td>\n",
       "      <td>2566</td>\n",
       "      <td>2566</td>\n",
       "      <td>2566</td>\n",
       "      <td>2566</td>\n",
       "      <td>2563</td>\n",
       "      <td>2566</td>\n",
       "      <td>85</td>\n",
       "      <td>2563</td>\n",
       "      <td>112</td>\n",
       "      <td>2566</td>\n",
       "    </tr>\n",
       "  </tbody>\n",
       "</table>\n",
       "</div>"
      ],
      "text/plain": [
       "            overall  verified  reviewTime  reviewerID  reviewerName   \n",
       "asin                                                                  \n",
       "B000V0IBDM     4380      4380        4380        4380          4379  \\\n",
       "B000KPIHQ4     4371      4371        4371        4371          4370   \n",
       "B00I0VHS10     3884      3884        3884        3884          3884   \n",
       "B00RLSCLJM     3633      3633        3633        3633          3633   \n",
       "B000PHANNM     2566      2566        2566        2566          2566   \n",
       "\n",
       "            reviewText  summary  unixReviewTime  vote  style  image  truncated  \n",
       "asin                                                                            \n",
       "B000V0IBDM        4380     4378            4380     0      0     38       4380  \n",
       "B000KPIHQ4        4371     4369            4371   193   3346     38       4371  \n",
       "B00I0VHS10        3884     3880            3884   128   3872    107       3884  \n",
       "B00RLSCLJM        3633     3632            3633   225   3538    210       3633  \n",
       "B000PHANNM        2566     2563            2566    85   2563    112       2566  "
      ]
     },
     "execution_count": 7,
     "metadata": {},
     "output_type": "execute_result"
    }
   ],
   "source": [
    "# Find a product with a lot of reviews\n",
    "df.groupby('asin').count().sort_values('overall', ascending=False).head()"
   ]
  },
  {
   "cell_type": "code",
   "execution_count": 11,
   "metadata": {},
   "outputs": [
    {
     "data": {
      "text/plain": [
       "array([['Powerstep Pinnacle Orthotic Shoe Insoles', nan,\n",
       "        list(['Shipping Information:\\n                    \\nView shipping rates and policies']),\n",
       "        '154inClothing,Shoesamp;Jewelry(', '5 star', 'B000KPIHQ4',\n",
       "        list(['https://images-na.ssl-images-amazon.com/images/I/414VFpnmvjL._US40_.jpg', 'https://images-na.ssl-images-amazon.com/images/I/51yLLxuD5%2BL._US40_.jpg', 'https://images-na.ssl-images-amazon.com/images/I/51NJmYTkeiL._US40_.jpg', 'https://images-na.ssl-images-amazon.com/images/I/41VRUCCVKEL._US40_.jpg', 'https://images-na.ssl-images-amazon.com/images/I/51b-GUTXm0L._US40_.jpg', 'https://images-na.ssl-images-amazon.com/images/I/41mORzqQTwL._US40_.jpg', 'https://images-na.ssl-images-amazon.com/images/I/61RHVYCqQcL._US40_.jpg']),\n",
       "        list(['https://images-na.ssl-images-amazon.com/images/I/414VFpnmvjL.jpg', 'https://images-na.ssl-images-amazon.com/images/I/51yLLxuD5%2BL.jpg', 'https://images-na.ssl-images-amazon.com/images/I/51NJmYTkeiL.jpg', 'https://images-na.ssl-images-amazon.com/images/I/41VRUCCVKEL.jpg', 'https://images-na.ssl-images-amazon.com/images/I/51b-GUTXm0L.jpg', 'https://images-na.ssl-images-amazon.com/images/I/41mORzqQTwL.jpg', 'https://images-na.ssl-images-amazon.com/images/I/61RHVYCqQcL.jpg']),\n",
       "        nan, '$24.49 - $44.95',\n",
       "        list(['B0753R8B9C', 'B01BLAGT0W', 'B07B42H9LQ', 'B07JZ51118', 'B01IFA5OGQ', 'B01M020KFK', 'B016R1NGY2', 'B07GL7NSGW', 'B01M22TRFY', 'B01IELL7IU', 'B0794GPRN8', 'B01N5F0SLO', 'B01N957HAP', 'B00EA24C6C', 'B003CN60TM', 'B01MRIPFYD', 'B07GCL9J1Q', 'B010SRHGM4', 'B073JJX3T9', 'B07HJ1YBSL', 'B072R2ZFZD', 'B00IR7OR5C', 'B01BOV3EEC', 'B072FNDC86', 'B008KZDC0C', 'B07JVDVGQL', 'B01IFASTJU', 'B07FDQKNX6', 'B004K1FIES', 'B003CT3BNE', 'B07HBHFX2Q', 'B00IR7P5W6', 'B06XTK6FJ1', 'B07KQK1WNP', 'B07D8WPL29', 'B01LZO66V7', 'B0154NZ4NU']),\n",
       "        list(['B01M22TRFY', 'B01BLAGT0W', 'B0753R8B9C', 'B010SRHGM4', 'B01M020KFK', 'B01IFA5OGQ', 'B07B42H9LQ', 'B01N5F0SLO', 'B0794GPRN8', 'B01BOV3EEC', 'B074H9D928', 'B01N957HAP', 'B07JZ51118', 'B07C4BZY7Y', 'B07JVDVGQL', 'B073JJX3T9', 'B07GL7NSGW', 'B01MRIPFYD', 'B003CN60TM', 'B01IELL7IU', 'B00IR7OR5C', 'B074TQFGTF', 'B07D3FW66R', 'B004K1FIES', 'B071253KKX', 'B018QS97IS', 'B072MFRCGZ', 'B0711K2JPZ', 'B07CQYD85X', 'B003CT3BNE', 'B0771SLY7C', 'B01J4MF19O', 'B071JMD8NJ', 'B00EA24C6C', 'B00D5QPBZU', 'B01A58FHQ8', 'B07D2VZHGC', 'B077XT82DD', 'B01GRQQE82', 'B00VH8G1SY', 'B0719MHX9L', 'B00XP3YB6I', 'B0091JG0LY', 'B0756LK7Z5']),\n",
       "        ' class=\"a-normal a-align-center a-spacing-small\">\\n        \\n            <tbody><tr class=\"a-histogram-row\">\\n                <td class=\"a-span3 a-nowrap\">\\n                    <span class=\"a-color-secondary\">\\n                        Too small\\n                    </span>\\n                </td>\\n                <td class=\"a-span8\">\\n                    <div class=\"a-meter\" aria-label=\"0%\"><div class=\"a-meter-bar a-meter-unfilled\" style=\"width: 0%;\"></div></div>\\n                </td> \\n                <td class=\"a-span1 a-nowrap\">\\n                    <span>73</span>\\n                </td> \\n            </tr>\\n        \\n            <tr class=\"a-histogram-row\">\\n                <td class=\"a-span3 a-nowrap\">\\n                    <span class=\"a-color-secondary\">\\n                        Somewhat small\\n                    </span>\\n                </td>\\n                <td class=\"a-span8\">\\n                    <div class=\"a-meter\" aria-label=\"1%\"><div class=\"a-meter-bar a-meter-unfilled\" style=\"width: 1%;\"></div></div>\\n                </td> \\n                <td class=\"a-span1 a-nowrap\">\\n                    <span>128</span>\\n                </td> \\n            </tr>\\n        \\n            <tr class=\"a-histogram-row\">\\n                <td class=\"a-span3 a-nowrap\">\\n                    <span class=\"a-color-state a-text-bold\">\\n                        Fits as expected\\n                    </span>\\n                </td>\\n                <td class=\"a-span8\">\\n                    <div class=\"a-meter\" aria-label=\"93%\"><div class=\"a-meter-bar a-meter-unfilled\" style=\"width: 93%;\"></div></div>\\n                </td> \\n                <td class=\"a-span1 a-nowrap\">\\n                    <span>7,641</span>\\n                </td> \\n            </tr>\\n        \\n            <tr class=\"a-histogram-row\">\\n                <td class=\"a-span3 a-nowrap\">\\n                    <span class=\"a-color-secondary\">\\n                        Somewhat large\\n                    </span>\\n                </td>\\n                <td class=\"a-span8\">\\n                    <div class=\"a-meter\" aria-label=\"2%\"><div class=\"a-meter-bar a-meter-unfilled\" style=\"width: 2%;\"></div></div>\\n                </td> \\n                <td class=\"a-span1 a-nowrap\">\\n                    <span>233</span>\\n                </td> \\n            </tr>\\n        \\n            <tr class=\"a-histogram-row\">\\n                <td class=\"a-span3 a-nowrap\">\\n                    <span class=\"a-color-secondary\">\\n                        Too large\\n                    </span>\\n                </td>\\n                <td class=\"a-span8\">\\n                    <div class=\"a-meter\" aria-label=\"1%\"><div class=\"a-meter-bar a-meter-unfilled\" style=\"width: 1%;\"></div></div>\\n                </td> \\n                <td class=\"a-span1 a-nowrap\">\\n                    <span>134</span>\\n                </td> \\n            </tr>\\n        \\n    </tbody>',\n",
       "        nan, nan, nan]], dtype=object)"
      ]
     },
     "execution_count": 11,
     "metadata": {},
     "output_type": "execute_result"
    }
   ],
   "source": [
    "# Extract the product\n",
    "\n",
    "df_meta[df_meta.asin=='B000KPIHQ4'].values"
   ]
  },
  {
   "attachments": {},
   "cell_type": "markdown",
   "metadata": {},
   "source": [
    "### Create embedding vectors"
   ]
  },
  {
   "cell_type": "code",
   "execution_count": 13,
   "metadata": {},
   "outputs": [],
   "source": [
    "df = df.loc[df['asin'] == 'B000KPIHQ4'].copy() # copy to avoid SettingWithCopyWarning"
   ]
  },
  {
   "cell_type": "code",
   "execution_count": 14,
   "metadata": {},
   "outputs": [
    {
     "data": {
      "text/html": [
       "<div>\n",
       "<style scoped>\n",
       "    .dataframe tbody tr th:only-of-type {\n",
       "        vertical-align: middle;\n",
       "    }\n",
       "\n",
       "    .dataframe tbody tr th {\n",
       "        vertical-align: top;\n",
       "    }\n",
       "\n",
       "    .dataframe thead th {\n",
       "        text-align: right;\n",
       "    }\n",
       "</style>\n",
       "<table border=\"1\" class=\"dataframe\">\n",
       "  <thead>\n",
       "    <tr style=\"text-align: right;\">\n",
       "      <th></th>\n",
       "      <th>overall</th>\n",
       "      <th>verified</th>\n",
       "      <th>reviewTime</th>\n",
       "      <th>reviewerID</th>\n",
       "      <th>asin</th>\n",
       "      <th>reviewerName</th>\n",
       "      <th>reviewText</th>\n",
       "      <th>summary</th>\n",
       "      <th>unixReviewTime</th>\n",
       "      <th>vote</th>\n",
       "      <th>style</th>\n",
       "      <th>image</th>\n",
       "      <th>truncated</th>\n",
       "    </tr>\n",
       "  </thead>\n",
       "  <tbody>\n",
       "    <tr>\n",
       "      <th>11218</th>\n",
       "      <td>3.0</td>\n",
       "      <td>True</td>\n",
       "      <td>09 26, 2007</td>\n",
       "      <td>A1CIM0XZ3UA926</td>\n",
       "      <td>B000KPIHQ4</td>\n",
       "      <td>M. Cane</td>\n",
       "      <td>Good price, good product. Howver, it is generi...</td>\n",
       "      <td>Orthotics off the rack</td>\n",
       "      <td>1190764800</td>\n",
       "      <td>2</td>\n",
       "      <td>{'Size Name:': ' Men's 5-5.5, Women's 7-7.5', ...</td>\n",
       "      <td>NaN</td>\n",
       "      <td>Good price, good product. Howver, it is generi...</td>\n",
       "    </tr>\n",
       "    <tr>\n",
       "      <th>11219</th>\n",
       "      <td>5.0</td>\n",
       "      <td>True</td>\n",
       "      <td>01 18, 2007</td>\n",
       "      <td>A1EVVPCWRW5YYZ</td>\n",
       "      <td>B000KPIHQ4</td>\n",
       "      <td>Deborah Morris</td>\n",
       "      <td>My husband rates these insoles a 5 for comfort...</td>\n",
       "      <td>Very comfortable</td>\n",
       "      <td>1169078400</td>\n",
       "      <td>3</td>\n",
       "      <td>{'Size Name:': ' Men's 10-10.5, Women's 12', '...</td>\n",
       "      <td>NaN</td>\n",
       "      <td>My husband rates these insoles a 5 for comfort...</td>\n",
       "    </tr>\n",
       "    <tr>\n",
       "      <th>11220</th>\n",
       "      <td>5.0</td>\n",
       "      <td>True</td>\n",
       "      <td>05 18, 2018</td>\n",
       "      <td>A2P3NZ9H4PANK0</td>\n",
       "      <td>B000KPIHQ4</td>\n",
       "      <td>Stephanie</td>\n",
       "      <td>I have worn the Powerstep Pinnacle shoe insole...</td>\n",
       "      <td>... Pinnacle shoe insoles for the past 5 years...</td>\n",
       "      <td>1526601600</td>\n",
       "      <td>NaN</td>\n",
       "      <td>{'Size Name:': ' Men's 6-6.5, Women's 8-8.5', ...</td>\n",
       "      <td>NaN</td>\n",
       "      <td>I have worn the Powerstep Pinnacle shoe insole...</td>\n",
       "    </tr>\n",
       "    <tr>\n",
       "      <th>11221</th>\n",
       "      <td>1.0</td>\n",
       "      <td>True</td>\n",
       "      <td>05 18, 2018</td>\n",
       "      <td>A2975GY186VV7A</td>\n",
       "      <td>B000KPIHQ4</td>\n",
       "      <td>jessica etim</td>\n",
       "      <td>Very uncomfortable feel like I wasted my money!</td>\n",
       "      <td>Uncomfortable</td>\n",
       "      <td>1526601600</td>\n",
       "      <td>NaN</td>\n",
       "      <td>{'Size Name:': ' Men's 7-7.5, Women's 9-9.5', ...</td>\n",
       "      <td>NaN</td>\n",
       "      <td>Very uncomfortable feel like I wasted my money!</td>\n",
       "    </tr>\n",
       "    <tr>\n",
       "      <th>11222</th>\n",
       "      <td>5.0</td>\n",
       "      <td>True</td>\n",
       "      <td>05 17, 2018</td>\n",
       "      <td>A3U8E58RIKWDAW</td>\n",
       "      <td>B000KPIHQ4</td>\n",
       "      <td>Nancy Mazzuca</td>\n",
       "      <td>work perfect</td>\n",
       "      <td>Five Stars</td>\n",
       "      <td>1526515200</td>\n",
       "      <td>NaN</td>\n",
       "      <td>{'Size Name:': ' Men's 9-9.5, Women's 11-11.5'...</td>\n",
       "      <td>NaN</td>\n",
       "      <td>work perfect</td>\n",
       "    </tr>\n",
       "  </tbody>\n",
       "</table>\n",
       "</div>"
      ],
      "text/plain": [
       "       overall  verified   reviewTime      reviewerID        asin   \n",
       "11218      3.0      True  09 26, 2007  A1CIM0XZ3UA926  B000KPIHQ4  \\\n",
       "11219      5.0      True  01 18, 2007  A1EVVPCWRW5YYZ  B000KPIHQ4   \n",
       "11220      5.0      True  05 18, 2018  A2P3NZ9H4PANK0  B000KPIHQ4   \n",
       "11221      1.0      True  05 18, 2018  A2975GY186VV7A  B000KPIHQ4   \n",
       "11222      5.0      True  05 17, 2018  A3U8E58RIKWDAW  B000KPIHQ4   \n",
       "\n",
       "         reviewerName                                         reviewText   \n",
       "11218         M. Cane  Good price, good product. Howver, it is generi...  \\\n",
       "11219  Deborah Morris  My husband rates these insoles a 5 for comfort...   \n",
       "11220       Stephanie  I have worn the Powerstep Pinnacle shoe insole...   \n",
       "11221    jessica etim    Very uncomfortable feel like I wasted my money!   \n",
       "11222   Nancy Mazzuca                                       work perfect   \n",
       "\n",
       "                                                 summary  unixReviewTime vote   \n",
       "11218                             Orthotics off the rack      1190764800    2  \\\n",
       "11219                                   Very comfortable      1169078400    3   \n",
       "11220  ... Pinnacle shoe insoles for the past 5 years...      1526601600  NaN   \n",
       "11221                                      Uncomfortable      1526601600  NaN   \n",
       "11222                                         Five Stars      1526515200  NaN   \n",
       "\n",
       "                                                   style image   \n",
       "11218  {'Size Name:': ' Men's 5-5.5, Women's 7-7.5', ...   NaN  \\\n",
       "11219  {'Size Name:': ' Men's 10-10.5, Women's 12', '...   NaN   \n",
       "11220  {'Size Name:': ' Men's 6-6.5, Women's 8-8.5', ...   NaN   \n",
       "11221  {'Size Name:': ' Men's 7-7.5, Women's 9-9.5', ...   NaN   \n",
       "11222  {'Size Name:': ' Men's 9-9.5, Women's 11-11.5'...   NaN   \n",
       "\n",
       "                                               truncated  \n",
       "11218  Good price, good product. Howver, it is generi...  \n",
       "11219  My husband rates these insoles a 5 for comfort...  \n",
       "11220  I have worn the Powerstep Pinnacle shoe insole...  \n",
       "11221    Very uncomfortable feel like I wasted my money!  \n",
       "11222                                       work perfect  "
      ]
     },
     "execution_count": 14,
     "metadata": {},
     "output_type": "execute_result"
    }
   ],
   "source": [
    "df.head()"
   ]
  },
  {
   "cell_type": "code",
   "execution_count": 15,
   "metadata": {},
   "outputs": [
    {
     "name": "stderr",
     "output_type": "stream",
     "text": [
      "/opt/homebrew/Caskroom/miniforge/base/envs/cx-analytics/lib/python3.9/site-packages/tqdm/auto.py:21: TqdmWarning: IProgress not found. Please update jupyter and ipywidgets. See https://ipywidgets.readthedocs.io/en/stable/user_install.html\n",
      "  from .autonotebook import tqdm as notebook_tqdm\n",
      "Downloading (…)a8e1d/.gitattributes: 100%|██████████| 1.18k/1.18k [00:00<00:00, 457kB/s]\n",
      "Downloading (…)_Pooling/config.json: 100%|██████████| 190/190 [00:00<00:00, 105kB/s]\n",
      "Downloading (…)b20bca8e1d/README.md: 100%|██████████| 10.6k/10.6k [00:00<00:00, 3.39MB/s]\n",
      "Downloading (…)0bca8e1d/config.json: 100%|██████████| 571/571 [00:00<00:00, 412kB/s]\n",
      "Downloading (…)ce_transformers.json: 100%|██████████| 116/116 [00:00<00:00, 197kB/s]\n",
      "Downloading (…)e1d/data_config.json: 100%|██████████| 39.3k/39.3k [00:00<00:00, 23.0MB/s]\n",
      "Downloading pytorch_model.bin: 100%|██████████| 438M/438M [00:05<00:00, 78.4MB/s] \n",
      "Downloading (…)nce_bert_config.json: 100%|██████████| 53.0/53.0 [00:00<00:00, 27.0kB/s]\n",
      "Downloading (…)cial_tokens_map.json: 100%|██████████| 239/239 [00:00<00:00, 80.1kB/s]\n",
      "Downloading (…)a8e1d/tokenizer.json: 100%|██████████| 466k/466k [00:00<00:00, 3.70MB/s]\n",
      "Downloading (…)okenizer_config.json: 100%|██████████| 363/363 [00:00<00:00, 215kB/s]\n",
      "Downloading (…)8e1d/train_script.py: 100%|██████████| 13.1k/13.1k [00:00<00:00, 5.26MB/s]\n",
      "Downloading (…)b20bca8e1d/vocab.txt: 100%|██████████| 232k/232k [00:00<00:00, 34.4MB/s]\n",
      "Downloading (…)bca8e1d/modules.json: 100%|██████████| 349/349 [00:00<00:00, 163kB/s]\n"
     ]
    }
   ],
   "source": [
    "from langchain.embeddings import HuggingFaceEmbeddings\n",
    "\n",
    "embeddings = HuggingFaceEmbeddings()"
   ]
  },
  {
   "cell_type": "code",
   "execution_count": 16,
   "metadata": {},
   "outputs": [],
   "source": [
    "# Do not use OpenAI embeddings because of cost\n",
    "\n",
    "df['embeddings'] = df.apply(lambda row: embeddings.embed_query(row['truncated']), axis=1) # this takes ~ 3m on a CPU"
   ]
  },
  {
   "cell_type": "code",
   "execution_count": 17,
   "metadata": {},
   "outputs": [
    {
     "data": {
      "text/html": [
       "<div>\n",
       "<style scoped>\n",
       "    .dataframe tbody tr th:only-of-type {\n",
       "        vertical-align: middle;\n",
       "    }\n",
       "\n",
       "    .dataframe tbody tr th {\n",
       "        vertical-align: top;\n",
       "    }\n",
       "\n",
       "    .dataframe thead th {\n",
       "        text-align: right;\n",
       "    }\n",
       "</style>\n",
       "<table border=\"1\" class=\"dataframe\">\n",
       "  <thead>\n",
       "    <tr style=\"text-align: right;\">\n",
       "      <th></th>\n",
       "      <th>overall</th>\n",
       "      <th>verified</th>\n",
       "      <th>reviewTime</th>\n",
       "      <th>reviewerID</th>\n",
       "      <th>asin</th>\n",
       "      <th>reviewerName</th>\n",
       "      <th>reviewText</th>\n",
       "      <th>summary</th>\n",
       "      <th>unixReviewTime</th>\n",
       "      <th>vote</th>\n",
       "      <th>style</th>\n",
       "      <th>image</th>\n",
       "      <th>truncated</th>\n",
       "      <th>embeddings</th>\n",
       "    </tr>\n",
       "  </thead>\n",
       "  <tbody>\n",
       "    <tr>\n",
       "      <th>11218</th>\n",
       "      <td>3.0</td>\n",
       "      <td>True</td>\n",
       "      <td>09 26, 2007</td>\n",
       "      <td>A1CIM0XZ3UA926</td>\n",
       "      <td>B000KPIHQ4</td>\n",
       "      <td>M. Cane</td>\n",
       "      <td>Good price, good product. Howver, it is generi...</td>\n",
       "      <td>Orthotics off the rack</td>\n",
       "      <td>1190764800</td>\n",
       "      <td>2</td>\n",
       "      <td>{'Size Name:': ' Men's 5-5.5, Women's 7-7.5', ...</td>\n",
       "      <td>NaN</td>\n",
       "      <td>Good price, good product. Howver, it is generi...</td>\n",
       "      <td>[-0.007861517369747162, -0.00678021926432848, ...</td>\n",
       "    </tr>\n",
       "    <tr>\n",
       "      <th>11219</th>\n",
       "      <td>5.0</td>\n",
       "      <td>True</td>\n",
       "      <td>01 18, 2007</td>\n",
       "      <td>A1EVVPCWRW5YYZ</td>\n",
       "      <td>B000KPIHQ4</td>\n",
       "      <td>Deborah Morris</td>\n",
       "      <td>My husband rates these insoles a 5 for comfort...</td>\n",
       "      <td>Very comfortable</td>\n",
       "      <td>1169078400</td>\n",
       "      <td>3</td>\n",
       "      <td>{'Size Name:': ' Men's 10-10.5, Women's 12', '...</td>\n",
       "      <td>NaN</td>\n",
       "      <td>My husband rates these insoles a 5 for comfort...</td>\n",
       "      <td>[-0.07544193416833878, 0.025455137714743614, -...</td>\n",
       "    </tr>\n",
       "    <tr>\n",
       "      <th>11220</th>\n",
       "      <td>5.0</td>\n",
       "      <td>True</td>\n",
       "      <td>05 18, 2018</td>\n",
       "      <td>A2P3NZ9H4PANK0</td>\n",
       "      <td>B000KPIHQ4</td>\n",
       "      <td>Stephanie</td>\n",
       "      <td>I have worn the Powerstep Pinnacle shoe insole...</td>\n",
       "      <td>... Pinnacle shoe insoles for the past 5 years...</td>\n",
       "      <td>1526601600</td>\n",
       "      <td>NaN</td>\n",
       "      <td>{'Size Name:': ' Men's 6-6.5, Women's 8-8.5', ...</td>\n",
       "      <td>NaN</td>\n",
       "      <td>I have worn the Powerstep Pinnacle shoe insole...</td>\n",
       "      <td>[-0.06397590041160583, 0.012907425872981548, -...</td>\n",
       "    </tr>\n",
       "    <tr>\n",
       "      <th>11221</th>\n",
       "      <td>1.0</td>\n",
       "      <td>True</td>\n",
       "      <td>05 18, 2018</td>\n",
       "      <td>A2975GY186VV7A</td>\n",
       "      <td>B000KPIHQ4</td>\n",
       "      <td>jessica etim</td>\n",
       "      <td>Very uncomfortable feel like I wasted my money!</td>\n",
       "      <td>Uncomfortable</td>\n",
       "      <td>1526601600</td>\n",
       "      <td>NaN</td>\n",
       "      <td>{'Size Name:': ' Men's 7-7.5, Women's 9-9.5', ...</td>\n",
       "      <td>NaN</td>\n",
       "      <td>Very uncomfortable feel like I wasted my money!</td>\n",
       "      <td>[-0.009998583234846592, -0.05696876719594002, ...</td>\n",
       "    </tr>\n",
       "    <tr>\n",
       "      <th>11222</th>\n",
       "      <td>5.0</td>\n",
       "      <td>True</td>\n",
       "      <td>05 17, 2018</td>\n",
       "      <td>A3U8E58RIKWDAW</td>\n",
       "      <td>B000KPIHQ4</td>\n",
       "      <td>Nancy Mazzuca</td>\n",
       "      <td>work perfect</td>\n",
       "      <td>Five Stars</td>\n",
       "      <td>1526515200</td>\n",
       "      <td>NaN</td>\n",
       "      <td>{'Size Name:': ' Men's 9-9.5, Women's 11-11.5'...</td>\n",
       "      <td>NaN</td>\n",
       "      <td>work perfect</td>\n",
       "      <td>[-0.01534116081893444, -0.005922064650803804, ...</td>\n",
       "    </tr>\n",
       "  </tbody>\n",
       "</table>\n",
       "</div>"
      ],
      "text/plain": [
       "       overall  verified   reviewTime      reviewerID        asin   \n",
       "11218      3.0      True  09 26, 2007  A1CIM0XZ3UA926  B000KPIHQ4  \\\n",
       "11219      5.0      True  01 18, 2007  A1EVVPCWRW5YYZ  B000KPIHQ4   \n",
       "11220      5.0      True  05 18, 2018  A2P3NZ9H4PANK0  B000KPIHQ4   \n",
       "11221      1.0      True  05 18, 2018  A2975GY186VV7A  B000KPIHQ4   \n",
       "11222      5.0      True  05 17, 2018  A3U8E58RIKWDAW  B000KPIHQ4   \n",
       "\n",
       "         reviewerName                                         reviewText   \n",
       "11218         M. Cane  Good price, good product. Howver, it is generi...  \\\n",
       "11219  Deborah Morris  My husband rates these insoles a 5 for comfort...   \n",
       "11220       Stephanie  I have worn the Powerstep Pinnacle shoe insole...   \n",
       "11221    jessica etim    Very uncomfortable feel like I wasted my money!   \n",
       "11222   Nancy Mazzuca                                       work perfect   \n",
       "\n",
       "                                                 summary  unixReviewTime vote   \n",
       "11218                             Orthotics off the rack      1190764800    2  \\\n",
       "11219                                   Very comfortable      1169078400    3   \n",
       "11220  ... Pinnacle shoe insoles for the past 5 years...      1526601600  NaN   \n",
       "11221                                      Uncomfortable      1526601600  NaN   \n",
       "11222                                         Five Stars      1526515200  NaN   \n",
       "\n",
       "                                                   style image   \n",
       "11218  {'Size Name:': ' Men's 5-5.5, Women's 7-7.5', ...   NaN  \\\n",
       "11219  {'Size Name:': ' Men's 10-10.5, Women's 12', '...   NaN   \n",
       "11220  {'Size Name:': ' Men's 6-6.5, Women's 8-8.5', ...   NaN   \n",
       "11221  {'Size Name:': ' Men's 7-7.5, Women's 9-9.5', ...   NaN   \n",
       "11222  {'Size Name:': ' Men's 9-9.5, Women's 11-11.5'...   NaN   \n",
       "\n",
       "                                               truncated   \n",
       "11218  Good price, good product. Howver, it is generi...  \\\n",
       "11219  My husband rates these insoles a 5 for comfort...   \n",
       "11220  I have worn the Powerstep Pinnacle shoe insole...   \n",
       "11221    Very uncomfortable feel like I wasted my money!   \n",
       "11222                                       work perfect   \n",
       "\n",
       "                                              embeddings  \n",
       "11218  [-0.007861517369747162, -0.00678021926432848, ...  \n",
       "11219  [-0.07544193416833878, 0.025455137714743614, -...  \n",
       "11220  [-0.06397590041160583, 0.012907425872981548, -...  \n",
       "11221  [-0.009998583234846592, -0.05696876719594002, ...  \n",
       "11222  [-0.01534116081893444, -0.005922064650803804, ...  "
      ]
     },
     "execution_count": 17,
     "metadata": {},
     "output_type": "execute_result"
    }
   ],
   "source": [
    "df.head()"
   ]
  },
  {
   "attachments": {},
   "cell_type": "markdown",
   "metadata": {},
   "source": [
    "### Train a simple RandomForest model with Scikit-Learn"
   ]
  },
  {
   "cell_type": "code",
   "execution_count": 18,
   "metadata": {},
   "outputs": [],
   "source": [
    "from sklearn.model_selection import train_test_split\n",
    "from sklearn.metrics import mean_absolute_error\n",
    "\n",
    "X_train, X_test, y_train, y_test = train_test_split(\n",
    "    list(df.embeddings.values),\n",
    "    df.overall,\n",
    "    test_size=0.2,\n",
    "    random_state=1\n",
    ")"
   ]
  },
  {
   "cell_type": "code",
   "execution_count": 19,
   "metadata": {},
   "outputs": [],
   "source": [
    "from sklearn.ensemble import RandomForestRegressor\n",
    "\n",
    "model = RandomForestRegressor(n_estimators=150, random_state=1, n_jobs=-1)\n",
    "model.fit(X_train, y_train)\n",
    "y_pred = model.predict(X_test)"
   ]
  },
  {
   "cell_type": "code",
   "execution_count": 20,
   "metadata": {},
   "outputs": [
    {
     "data": {
      "text/plain": [
       "0.538682258969592"
      ]
     },
     "execution_count": 20,
     "metadata": {},
     "output_type": "execute_result"
    }
   ],
   "source": [
    "# Predict\n",
    "mean_absolute_error(y_test, y_pred)"
   ]
  },
  {
   "attachments": {},
   "cell_type": "markdown",
   "metadata": {},
   "source": [
    "### Load embeddings into the vector database"
   ]
  },
  {
   "cell_type": "code",
   "execution_count": 22,
   "metadata": {},
   "outputs": [],
   "source": [
    "import pinecone\n",
    "from langchain.vectorstores.pinecone import Pinecone\n",
    "\n",
    "# Initialize Pinecone\n",
    "pinecone.init(\n",
    "    api_key=os.environ.get(\"PINECONE_API_KEY\"),\n",
    "    environment=os.environ.get(\"PINECONE_ENVIRONMENT\"),\n",
    ")"
   ]
  },
  {
   "cell_type": "code",
   "execution_count": 23,
   "metadata": {},
   "outputs": [],
   "source": [
    "texts = df['truncated'].tolist()"
   ]
  },
  {
   "cell_type": "code",
   "execution_count": 24,
   "metadata": {},
   "outputs": [
    {
     "data": {
      "text/plain": [
       "['Good price, good product. Howver, it is generic and if you really need orthotics, best to have them individually fitted. These are a good value.',\n",
       " \"My husband rates these insoles a 5 for comfort. He hasn't noticed any improvment as far as leg or foot pain and has wore them consistantly since Christmas. The owner of the Red Wing store where we get his work boots highly recommended them and he was right. They make heavy, steel toed work boots more bearable. Can't say they will cure or even help with orthopedic problems though. Guess you need to\",\n",
       " 'I have worn the Powerstep Pinnacle shoe insoles for the past 5 years and love them.  They are so comfortable and since I have been wearing them have had no foot pain or other discomfort.',\n",
       " 'Very uncomfortable feel like I wasted my money!',\n",
       " 'work perfect']"
      ]
     },
     "execution_count": 24,
     "metadata": {},
     "output_type": "execute_result"
    }
   ],
   "source": [
    "texts[:5]"
   ]
  },
  {
   "cell_type": "code",
   "execution_count": 28,
   "metadata": {},
   "outputs": [],
   "source": [
    "# Upload embeddings to Pinecone\n",
    "\n",
    "vstore = Pinecone.from_texts(texts, embeddings, index_name=\"cxanalytics\")"
   ]
  },
  {
   "cell_type": "code",
   "execution_count": 30,
   "metadata": {},
   "outputs": [
    {
     "data": {
      "text/plain": [
       "[Document(page_content='Love this product', metadata={}),\n",
       " Document(page_content='I like this product', metadata={}),\n",
       " Document(page_content='I like this product a lot', metadata={}),\n",
       " Document(page_content='great product', metadata={})]"
      ]
     },
     "execution_count": 30,
     "metadata": {},
     "output_type": "execute_result"
    }
   ],
   "source": [
    "# Do a basic similarity search to confirm that the embeddings are uploaded correctly\n",
    "\n",
    "query = \"I love this product\"\n",
    "result = vstore.similarity_search(query, top_k=5)\n",
    "\n",
    "result"
   ]
  },
  {
   "attachments": {},
   "cell_type": "markdown",
   "metadata": {},
   "source": [
    "### Have LLM access data in the vector store"
   ]
  },
  {
   "cell_type": "code",
   "execution_count": 47,
   "metadata": {},
   "outputs": [],
   "source": [
    "# Connect to OpenAI\n",
    "\n",
    "openai_api_key = os.environ.get(\"OPENAI_API_KEY\")"
   ]
  },
  {
   "cell_type": "code",
   "execution_count": null,
   "metadata": {},
   "outputs": [],
   "source": [
    "# Test the connection\n",
    "\n",
    "import openai\n",
    "openai.Engine.list()"
   ]
  },
  {
   "cell_type": "code",
   "execution_count": 64,
   "metadata": {},
   "outputs": [],
   "source": [
    "from langchain.chains import RetrievalQA\n",
    "from langchain.chat_models import ChatOpenAI\n",
    "\n",
    "chat = ChatOpenAI(temperature=0)\n",
    "review_chain = RetrievalQA.from_chain_type(llm=chat, chain_type=\"stuff\", retriever=vstore.as_retriever())\n"
   ]
  },
  {
   "cell_type": "code",
   "execution_count": 65,
   "metadata": {},
   "outputs": [],
   "source": [
    "q = \"\"\"\n",
    "The reviews you see are for a product called 'Powerstep Orthoic Shoe Insoles'\n",
    "What is the overall impression of these reviews? Give most prevalent examples in bullet points.\n",
    "What do you suggest we focus on improve?\n",
    "\"\"\""
   ]
  },
  {
   "cell_type": "code",
   "execution_count": 66,
   "metadata": {},
   "outputs": [
    {
     "name": "stdout",
     "output_type": "stream",
     "text": [
      "The overall impression of these reviews is mixed. Some users found the insoles to be helpful and effective, while others did not notice any improvement. Here are the most prevalent examples:\n",
      "\n",
      "Positive:\n",
      "- Helped considerably with foot pain\n",
      "- Good for moderate support\n",
      "- Corrected metatarsal pain issues\n",
      "- Top-notch quality\n",
      "- Solid construction and feel\n",
      "\n",
      "Negative:\n",
      "- Did not do anything for foot pain\n",
      "- Not suitable for high arches\n",
      "- Did not provide enough support\n",
      "- Did not fit well\n",
      "\n",
      "Based on these reviews, it seems that the effectiveness of the insoles varies depending on the user's specific foot issues. To improve, it may be helpful to provide more detailed information about which foot problems each type of insole is designed to address, so users can make a more informed decision.\n"
     ]
    }
   ],
   "source": [
    "result=review_chain.run(q)\n",
    "print(result)"
   ]
  }
 ],
 "metadata": {
  "kernelspec": {
   "display_name": "huggingface",
   "language": "python",
   "name": "python3"
  },
  "language_info": {
   "codemirror_mode": {
    "name": "ipython",
    "version": 3
   },
   "file_extension": ".py",
   "mimetype": "text/x-python",
   "name": "python",
   "nbconvert_exporter": "python",
   "pygments_lexer": "ipython3",
   "version": "3.9.16"
  },
  "orig_nbformat": 4
 },
 "nbformat": 4,
 "nbformat_minor": 2
}
